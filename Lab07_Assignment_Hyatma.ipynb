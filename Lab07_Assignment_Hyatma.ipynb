{
 "cells": [
  {
   "cell_type": "markdown",
   "metadata": {},
   "source": [
    "# Question 1"
   ]
  },
  {
   "cell_type": "markdown",
   "metadata": {},
   "source": [
    "Create a fishnet with a 4-degree interval based on the extent of `[-112.5439, 34.0891, -85.0342, 49.6858]`. Use the fishnet to download the Landsat 7 image tiles by the fishnet using the `geemap.download_ee_image_tiles()` function. Relevant Earth Engine assets:\n",
    "\n",
    "-   `ee.Image('LANDSAT/LE7_TOA_5YEAR/1999_2003')`"
   ]
  },
  {
   "cell_type": "code",
   "execution_count": 3,
   "metadata": {},
   "outputs": [
    {
     "data": {
      "application/vnd.jupyter.widget-view+json": {
       "model_id": "5b941dcd5a044ed6af244292ea4d2aee",
       "version_major": 2,
       "version_minor": 0
      },
      "text/plain": [
       "Map(center=[40, -100], controls=(WidgetControl(options=['position', 'transparent_bg'], widget=SearchDataGUI(ch…"
      ]
     },
     "execution_count": 3,
     "metadata": {},
     "output_type": "execute_result"
    }
   ],
   "source": [
    "import ee\n",
    "\n",
    "ee.Authenticate()\n",
    "ee.Initialize(project='gee-python-collab')\n",
    "\n",
    "import geemap\n",
    "map1 = geemap.Map(center=[40, -100], zoom=4)\n",
    "\n",
    "# Defining Landsat Image\n",
    "Landsat = ee.Image('LANDSAT/LE7_TOA_5YEAR/1999_2003')\n",
    "vis_landsat = {'bands': ['B4', 'B3', 'B2'], 'min': 20, 'max': 200}\n",
    "\n",
    "# Defining AOI and Fishnet AOI\n",
    "AOI = ee.Geometry.BBox(-112.5439, 34.0891, -85.0342, 49.6858)\n",
    "fc = ee.FeatureCollection(AOI)\n",
    "style = {'color': 'ffff00ff', 'fillColor': '00000000'}\n",
    "#map1.addLayer(fc.style(**style), {}, 'AOI')\n",
    "\n",
    "fishnet = geemap.fishnet(AOI, rows=4, cols=7, delta=0)\n",
    "style = {'color': 'ffff00ff', 'fillColor': '00000000'}\n",
    "map1.addLayer(Landsat, vis_landsat, 'Landsat')\n",
    "map1.addLayer(fishnet.style(**style), {}, 'Fishnet')\n",
    "map1"
   ]
  },
  {
   "cell_type": "code",
   "execution_count": 3,
   "metadata": {},
   "outputs": [
    {
     "data": {
      "text/html": [
       "\n",
       "            <style>\n",
       "                .geemap-dark {\n",
       "                    --jp-widgets-color: white;\n",
       "                    --jp-widgets-label-color: white;\n",
       "                    --jp-ui-font-color1: white;\n",
       "                    --jp-layout-color2: #454545;\n",
       "                    background-color: #383838;\n",
       "                }\n",
       "\n",
       "                .geemap-dark .jupyter-button {\n",
       "                    --jp-layout-color3: #383838;\n",
       "                }\n",
       "\n",
       "                .geemap-colab {\n",
       "                    background-color: var(--colab-primary-surface-color, white);\n",
       "                }\n",
       "\n",
       "                .geemap-colab .jupyter-button {\n",
       "                    --jp-layout-color3: var(--colab-primary-surface-color, white);\n",
       "                }\n",
       "            </style>\n",
       "            "
      ],
      "text/plain": [
       "<IPython.core.display.HTML object>"
      ]
     },
     "metadata": {},
     "output_type": "display_data"
    },
    {
     "name": "stdout",
     "output_type": "stream",
     "text": [
      "Downloading 1/24: Data\\landsat_01.tif\n"
     ]
    },
    {
     "data": {
      "application/vnd.jupyter.widget-view+json": {
       "model_id": "f80e751590de49ceafa4f2327034b90e",
       "version_major": 2,
       "version_minor": 0
      },
      "text/plain": [
       "landsat_01.tif: |          | 0.00/1.65M (raw) [  0.0%] in 00:00 (eta:     ?)"
      ]
     },
     "metadata": {},
     "output_type": "display_data"
    },
    {
     "name": "stdout",
     "output_type": "stream",
     "text": [
      "Downloading 2/24: Data\\landsat_02.tif\n"
     ]
    },
    {
     "data": {
      "application/vnd.jupyter.widget-view+json": {
       "model_id": "06782a9df82945efbdf781d1952a164f",
       "version_major": 2,
       "version_minor": 0
      },
      "text/plain": [
       "landsat_02.tif: |          | 0.00/1.65M (raw) [  0.0%] in 00:00 (eta:     ?)"
      ]
     },
     "metadata": {},
     "output_type": "display_data"
    },
    {
     "name": "stdout",
     "output_type": "stream",
     "text": [
      "Downloading 3/24: Data\\landsat_03.tif\n"
     ]
    },
    {
     "data": {
      "application/vnd.jupyter.widget-view+json": {
       "model_id": "aa58d1a46d8540ed8810636122b480dd",
       "version_major": 2,
       "version_minor": 0
      },
      "text/plain": [
       "landsat_03.tif: |          | 0.00/1.65M (raw) [  0.0%] in 00:00 (eta:     ?)"
      ]
     },
     "metadata": {},
     "output_type": "display_data"
    },
    {
     "name": "stdout",
     "output_type": "stream",
     "text": [
      "Downloading 4/24: Data\\landsat_04.tif\n"
     ]
    },
    {
     "data": {
      "application/vnd.jupyter.widget-view+json": {
       "model_id": "b52d419ef9f64fd98eaaea36020f8505",
       "version_major": 2,
       "version_minor": 0
      },
      "text/plain": [
       "landsat_04.tif: |          | 0.00/1.65M (raw) [  0.0%] in 00:00 (eta:     ?)"
      ]
     },
     "metadata": {},
     "output_type": "display_data"
    },
    {
     "name": "stdout",
     "output_type": "stream",
     "text": [
      "Downloading 5/24: Data\\landsat_05.tif\n"
     ]
    },
    {
     "data": {
      "application/vnd.jupyter.widget-view+json": {
       "model_id": "81b2ff5bfa9b497497f07108d1126583",
       "version_major": 2,
       "version_minor": 0
      },
      "text/plain": [
       "landsat_05.tif: |          | 0.00/1.65M (raw) [  0.0%] in 00:00 (eta:     ?)"
      ]
     },
     "metadata": {},
     "output_type": "display_data"
    },
    {
     "name": "stdout",
     "output_type": "stream",
     "text": [
      "Downloading 6/24: Data\\landsat_06.tif\n"
     ]
    },
    {
     "data": {
      "application/vnd.jupyter.widget-view+json": {
       "model_id": "d0a24f4530634d108ac900d4e4f39eed",
       "version_major": 2,
       "version_minor": 0
      },
      "text/plain": [
       "landsat_06.tif: |          | 0.00/1.65M (raw) [  0.0%] in 00:00 (eta:     ?)"
      ]
     },
     "metadata": {},
     "output_type": "display_data"
    },
    {
     "name": "stdout",
     "output_type": "stream",
     "text": [
      "Downloading 7/24: Data\\landsat_07.tif\n"
     ]
    },
    {
     "data": {
      "application/vnd.jupyter.widget-view+json": {
       "model_id": "3a32ef9f5c4e4839b496179ef294d8b5",
       "version_major": 2,
       "version_minor": 0
      },
      "text/plain": [
       "landsat_07.tif: |          | 0.00/1.75M (raw) [  0.0%] in 00:00 (eta:     ?)"
      ]
     },
     "metadata": {},
     "output_type": "display_data"
    },
    {
     "name": "stdout",
     "output_type": "stream",
     "text": [
      "Downloading 8/24: Data\\landsat_08.tif\n"
     ]
    },
    {
     "data": {
      "application/vnd.jupyter.widget-view+json": {
       "model_id": "43fc95cd0d5a44d4bf54e6903c4f1b19",
       "version_major": 2,
       "version_minor": 0
      },
      "text/plain": [
       "landsat_08.tif: |          | 0.00/1.74M (raw) [  0.0%] in 00:00 (eta:     ?)"
      ]
     },
     "metadata": {},
     "output_type": "display_data"
    },
    {
     "name": "stdout",
     "output_type": "stream",
     "text": [
      "Downloading 9/24: Data\\landsat_09.tif\n"
     ]
    },
    {
     "data": {
      "application/vnd.jupyter.widget-view+json": {
       "model_id": "1048bbe149eb4a92a67349779761fb1a",
       "version_major": 2,
       "version_minor": 0
      },
      "text/plain": [
       "landsat_09.tif: |          | 0.00/1.75M (raw) [  0.0%] in 00:00 (eta:     ?)"
      ]
     },
     "metadata": {},
     "output_type": "display_data"
    },
    {
     "name": "stdout",
     "output_type": "stream",
     "text": [
      "Downloading 10/24: Data\\landsat_10.tif\n"
     ]
    },
    {
     "data": {
      "application/vnd.jupyter.widget-view+json": {
       "model_id": "d69707500828465b907b006d6c7ea906",
       "version_major": 2,
       "version_minor": 0
      },
      "text/plain": [
       "landsat_10.tif: |          | 0.00/1.74M (raw) [  0.0%] in 00:00 (eta:     ?)"
      ]
     },
     "metadata": {},
     "output_type": "display_data"
    },
    {
     "name": "stdout",
     "output_type": "stream",
     "text": [
      "Downloading 11/24: Data\\landsat_11.tif\n"
     ]
    },
    {
     "data": {
      "application/vnd.jupyter.widget-view+json": {
       "model_id": "2591afe1a664423ab06b86a1c05671b3",
       "version_major": 2,
       "version_minor": 0
      },
      "text/plain": [
       "landsat_11.tif: |          | 0.00/1.75M (raw) [  0.0%] in 00:00 (eta:     ?)"
      ]
     },
     "metadata": {},
     "output_type": "display_data"
    },
    {
     "name": "stdout",
     "output_type": "stream",
     "text": [
      "Downloading 12/24: Data\\landsat_12.tif\n"
     ]
    },
    {
     "data": {
      "application/vnd.jupyter.widget-view+json": {
       "model_id": "2a5e48e8d1f3460e923e89fcfccd3869",
       "version_major": 2,
       "version_minor": 0
      },
      "text/plain": [
       "landsat_12.tif: |          | 0.00/1.74M (raw) [  0.0%] in 00:00 (eta:     ?)"
      ]
     },
     "metadata": {},
     "output_type": "display_data"
    },
    {
     "name": "stdout",
     "output_type": "stream",
     "text": [
      "Downloading 13/24: Data\\landsat_13.tif\n"
     ]
    },
    {
     "data": {
      "application/vnd.jupyter.widget-view+json": {
       "model_id": "75cf8ec54eef499e9754329fade2c024",
       "version_major": 2,
       "version_minor": 0
      },
      "text/plain": [
       "landsat_13.tif: |          | 0.00/1.85M (raw) [  0.0%] in 00:00 (eta:     ?)"
      ]
     },
     "metadata": {},
     "output_type": "display_data"
    },
    {
     "name": "stdout",
     "output_type": "stream",
     "text": [
      "Downloading 14/24: Data\\landsat_14.tif\n"
     ]
    },
    {
     "data": {
      "application/vnd.jupyter.widget-view+json": {
       "model_id": "3989ac08401f4252bc96055822b6e6f7",
       "version_major": 2,
       "version_minor": 0
      },
      "text/plain": [
       "landsat_14.tif: |          | 0.00/1.85M (raw) [  0.0%] in 00:00 (eta:     ?)"
      ]
     },
     "metadata": {},
     "output_type": "display_data"
    },
    {
     "name": "stdout",
     "output_type": "stream",
     "text": [
      "Downloading 15/24: Data\\landsat_15.tif\n"
     ]
    },
    {
     "data": {
      "application/vnd.jupyter.widget-view+json": {
       "model_id": "4d69610fb09d4d389cc00507692bbd58",
       "version_major": 2,
       "version_minor": 0
      },
      "text/plain": [
       "landsat_15.tif: |          | 0.00/1.85M (raw) [  0.0%] in 00:00 (eta:     ?)"
      ]
     },
     "metadata": {},
     "output_type": "display_data"
    },
    {
     "name": "stdout",
     "output_type": "stream",
     "text": [
      "Downloading 16/24: Data\\landsat_16.tif\n"
     ]
    },
    {
     "data": {
      "application/vnd.jupyter.widget-view+json": {
       "model_id": "b29f56650aa24332911e457fd863d0d2",
       "version_major": 2,
       "version_minor": 0
      },
      "text/plain": [
       "landsat_16.tif: |          | 0.00/1.85M (raw) [  0.0%] in 00:00 (eta:     ?)"
      ]
     },
     "metadata": {},
     "output_type": "display_data"
    },
    {
     "name": "stdout",
     "output_type": "stream",
     "text": [
      "Downloading 17/24: Data\\landsat_17.tif\n"
     ]
    },
    {
     "data": {
      "application/vnd.jupyter.widget-view+json": {
       "model_id": "20f06446a9424be4839a1aa0e3924858",
       "version_major": 2,
       "version_minor": 0
      },
      "text/plain": [
       "landsat_17.tif: |          | 0.00/1.85M (raw) [  0.0%] in 00:00 (eta:     ?)"
      ]
     },
     "metadata": {},
     "output_type": "display_data"
    },
    {
     "name": "stdout",
     "output_type": "stream",
     "text": [
      "Downloading 18/24: Data\\landsat_18.tif\n"
     ]
    },
    {
     "data": {
      "application/vnd.jupyter.widget-view+json": {
       "model_id": "09f3175429a34b088afc0b5eb3ed7529",
       "version_major": 2,
       "version_minor": 0
      },
      "text/plain": [
       "landsat_18.tif: |          | 0.00/1.85M (raw) [  0.0%] in 00:00 (eta:     ?)"
      ]
     },
     "metadata": {},
     "output_type": "display_data"
    },
    {
     "name": "stdout",
     "output_type": "stream",
     "text": [
      "Downloading 19/24: Data\\landsat_19.tif\n"
     ]
    },
    {
     "data": {
      "application/vnd.jupyter.widget-view+json": {
       "model_id": "8beb1126cafc40d1b459024f60933a8d",
       "version_major": 2,
       "version_minor": 0
      },
      "text/plain": [
       "landsat_19.tif: |          | 0.00/1.99M (raw) [  0.0%] in 00:00 (eta:     ?)"
      ]
     },
     "metadata": {},
     "output_type": "display_data"
    },
    {
     "name": "stdout",
     "output_type": "stream",
     "text": [
      "Downloading 20/24: Data\\landsat_20.tif\n"
     ]
    },
    {
     "data": {
      "application/vnd.jupyter.widget-view+json": {
       "model_id": "76415f78bdfc492cabd3f39699b05783",
       "version_major": 2,
       "version_minor": 0
      },
      "text/plain": [
       "landsat_20.tif: |          | 0.00/1.98M (raw) [  0.0%] in 00:00 (eta:     ?)"
      ]
     },
     "metadata": {},
     "output_type": "display_data"
    },
    {
     "name": "stdout",
     "output_type": "stream",
     "text": [
      "Downloading 21/24: Data\\landsat_21.tif\n"
     ]
    },
    {
     "data": {
      "application/vnd.jupyter.widget-view+json": {
       "model_id": "14b652a752664eba9e0ac1b55824bfd7",
       "version_major": 2,
       "version_minor": 0
      },
      "text/plain": [
       "landsat_21.tif: |          | 0.00/1.99M (raw) [  0.0%] in 00:00 (eta:     ?)"
      ]
     },
     "metadata": {},
     "output_type": "display_data"
    },
    {
     "name": "stdout",
     "output_type": "stream",
     "text": [
      "Downloading 22/24: Data\\landsat_22.tif\n"
     ]
    },
    {
     "data": {
      "application/vnd.jupyter.widget-view+json": {
       "model_id": "3a2c5ba290a74e7c91958f586a919d18",
       "version_major": 2,
       "version_minor": 0
      },
      "text/plain": [
       "landsat_22.tif: |          | 0.00/1.98M (raw) [  0.0%] in 00:00 (eta:     ?)"
      ]
     },
     "metadata": {},
     "output_type": "display_data"
    },
    {
     "name": "stdout",
     "output_type": "stream",
     "text": [
      "Downloading 23/24: Data\\landsat_23.tif\n"
     ]
    },
    {
     "data": {
      "application/vnd.jupyter.widget-view+json": {
       "model_id": "08fc9f246967483595adca3cec900eb4",
       "version_major": 2,
       "version_minor": 0
      },
      "text/plain": [
       "landsat_23.tif: |          | 0.00/1.99M (raw) [  0.0%] in 00:00 (eta:     ?)"
      ]
     },
     "metadata": {},
     "output_type": "display_data"
    },
    {
     "name": "stdout",
     "output_type": "stream",
     "text": [
      "Downloading 24/24: Data\\landsat_24.tif\n"
     ]
    },
    {
     "data": {
      "application/vnd.jupyter.widget-view+json": {
       "model_id": "c75956adaa004a218bf02698db30d670",
       "version_major": 2,
       "version_minor": 0
      },
      "text/plain": [
       "landsat_24.tif: |          | 0.00/1.98M (raw) [  0.0%] in 00:00 (eta:     ?)"
      ]
     },
     "metadata": {},
     "output_type": "display_data"
    },
    {
     "name": "stdout",
     "output_type": "stream",
     "text": [
      "Downloaded 24 tiles in 137.35073614120483 seconds.\n"
     ]
    }
   ],
   "source": [
    "# Exporting Fishnet and Image\n",
    "out_dir = \"Data\"\n",
    "geemap.download_ee_image_tiles(\n",
    "    Landsat, fishnet, out_dir, prefix=\"landsat_\", crs=\"EPSG:3857\", scale=1000\n",
    ")"
   ]
  },
  {
   "cell_type": "markdown",
   "metadata": {},
   "source": [
    "# Question 2"
   ]
  },
  {
   "cell_type": "markdown",
   "metadata": {},
   "source": [
    "Create annual cloud-free Landsat imagery for the years 2017-2023 for a US county of your choice. Download the images to your computer."
   ]
  },
  {
   "cell_type": "code",
   "execution_count": 4,
   "metadata": {},
   "outputs": [
    {
     "data": {
      "text/html": [
       "\n",
       "            <style>\n",
       "                .geemap-dark {\n",
       "                    --jp-widgets-color: white;\n",
       "                    --jp-widgets-label-color: white;\n",
       "                    --jp-ui-font-color1: white;\n",
       "                    --jp-layout-color2: #454545;\n",
       "                    background-color: #383838;\n",
       "                }\n",
       "\n",
       "                .geemap-dark .jupyter-button {\n",
       "                    --jp-layout-color3: #383838;\n",
       "                }\n",
       "\n",
       "                .geemap-colab {\n",
       "                    background-color: var(--colab-primary-surface-color, white);\n",
       "                }\n",
       "\n",
       "                .geemap-colab .jupyter-button {\n",
       "                    --jp-layout-color3: var(--colab-primary-surface-color, white);\n",
       "                }\n",
       "            </style>\n",
       "            "
      ],
      "text/plain": [
       "<IPython.core.display.HTML object>"
      ]
     },
     "metadata": {},
     "output_type": "display_data"
    },
    {
     "data": {
      "application/vnd.jupyter.widget-view+json": {
       "model_id": "bb9e481777904b4088027ab299f711b8",
       "version_major": 2,
       "version_minor": 0
      },
      "text/plain": [
       "Map(center=[0, 0], controls=(WidgetControl(options=['position', 'transparent_bg'], widget=SearchDataGUI(childr…"
      ]
     },
     "execution_count": 4,
     "metadata": {},
     "output_type": "execute_result"
    }
   ],
   "source": [
    "map2 = geemap.Map()\n",
    "\n",
    "# Defining AOI for Question 2\n",
    "States = ee.FeatureCollection(\"TIGER/2018/Counties\")\n",
    "map2.addLayer(States, {}, 'US Counties')\n",
    "map2"
   ]
  },
  {
   "cell_type": "code",
   "execution_count": 5,
   "metadata": {},
   "outputs": [
    {
     "data": {
      "text/html": [
       "\n",
       "            <style>\n",
       "                .geemap-dark {\n",
       "                    --jp-widgets-color: white;\n",
       "                    --jp-widgets-label-color: white;\n",
       "                    --jp-ui-font-color1: white;\n",
       "                    --jp-layout-color2: #454545;\n",
       "                    background-color: #383838;\n",
       "                }\n",
       "\n",
       "                .geemap-dark .jupyter-button {\n",
       "                    --jp-layout-color3: #383838;\n",
       "                }\n",
       "\n",
       "                .geemap-colab {\n",
       "                    background-color: var(--colab-primary-surface-color, white);\n",
       "                }\n",
       "\n",
       "                .geemap-colab .jupyter-button {\n",
       "                    --jp-layout-color3: var(--colab-primary-surface-color, white);\n",
       "                }\n",
       "            </style>\n",
       "            "
      ],
      "text/plain": [
       "<IPython.core.display.HTML object>"
      ]
     },
     "metadata": {},
     "output_type": "display_data"
    },
    {
     "data": {
      "application/vnd.jupyter.widget-view+json": {
       "model_id": "63d4bfd91501427bba4c191e11977322",
       "version_major": 2,
       "version_minor": 0
      },
      "text/plain": [
       "landsat_full.tif: |          | 0.00/1.31M (raw) [  0.0%] in 00:00 (eta:     ?)"
      ]
     },
     "metadata": {},
     "output_type": "display_data"
    },
    {
     "name": "stderr",
     "output_type": "stream",
     "text": [
      "There is no STAC entry for: None\n"
     ]
    }
   ],
   "source": [
    "states2 = States.filterBounds(map2.user_roi)\n",
    "AOI2 = states2.geometry()\n",
    "\n",
    "# Landsat 8 Imagee\n",
    "Landsat9 = (ee.ImageCollection(\"LANDSAT/LC08/C02/T1_L2\")\n",
    "            .filterDate('2017-01-01', '2023-12-31')\n",
    "            .filterBounds(AOI2)\n",
    "            .filter(ee.Filter.lt(\"CLOUD_COVER\", 30))\n",
    "            .median()\n",
    "            .clip(AOI2)\n",
    "            .select(['SR_B5', 'SR_B4', 'SR_B3']))\n",
    "vis_landsat9 = {'bands': ['SR_B5', 'SR_B4', 'SR_B3'], 'min': 0, 'max': 5000}\n",
    "map2.addLayer(Landsat9, vis_landsat9, 'Landsat 8')\n",
    "map2\n",
    "\n",
    "#Download Landsat 8 Image\n",
    "geemap.download_ee_image(Landsat9, filename='landsat_full.tif', crs = \"EPSG:3857\", scale=1000, region=AOI2)"
   ]
  },
  {
   "cell_type": "markdown",
   "metadata": {},
   "source": [
    "# Question 3"
   ]
  },
  {
   "cell_type": "markdown",
   "metadata": {},
   "source": [
    "Create annual cloud-free Sentinel-2 imagery for the years 2017-2023 for a US county of your choice. Download the images to your computer. You can download a coarse resolution image to speed up the download process. Narrow down the date range (e.g., summer months) to reduce the number of images, which can avoid memory errors."
   ]
  },
  {
   "cell_type": "code",
   "execution_count": 11,
   "metadata": {},
   "outputs": [
    {
     "data": {
      "text/html": [
       "\n",
       "            <style>\n",
       "                .geemap-dark {\n",
       "                    --jp-widgets-color: white;\n",
       "                    --jp-widgets-label-color: white;\n",
       "                    --jp-ui-font-color1: white;\n",
       "                    --jp-layout-color2: #454545;\n",
       "                    background-color: #383838;\n",
       "                }\n",
       "\n",
       "                .geemap-dark .jupyter-button {\n",
       "                    --jp-layout-color3: #383838;\n",
       "                }\n",
       "\n",
       "                .geemap-colab {\n",
       "                    background-color: var(--colab-primary-surface-color, white);\n",
       "                }\n",
       "\n",
       "                .geemap-colab .jupyter-button {\n",
       "                    --jp-layout-color3: var(--colab-primary-surface-color, white);\n",
       "                }\n",
       "            </style>\n",
       "            "
      ],
      "text/plain": [
       "<IPython.core.display.HTML object>"
      ]
     },
     "metadata": {},
     "output_type": "display_data"
    },
    {
     "name": "stdout",
     "output_type": "stream",
     "text": [
      "Generating URL ...\n",
      "Downloading data from https://earthengine.googleapis.com/v1/projects/gee-python-collab/thumbnails/cf72362170a75f59340aa1cf4be0bde4-568ded940cdea3614602814368bf775a:getPixels\n",
      "Please wait ...\n",
      "Data downloaded to e:\\GEE-Python\\Sentinel2.tif\n"
     ]
    }
   ],
   "source": [
    "# Sentinel-2 Imagee\n",
    "Sentinel2 = (ee.ImageCollection(\"COPERNICUS/S2_SR\")\n",
    "            .filterDate('2022-05-01', '2023-12-31')\n",
    "            .filterBounds(AOI2)\n",
    "            .filter(ee.Filter.lt(\"CLOUDY_PIXEL_PERCENTAGE\", 30))\n",
    "            .median()\n",
    "            .clip(AOI2))\n",
    "vis_S2 = {'bands': ['B4', 'B3', 'B2'], 'min': 0, 'max': 10000}\n",
    "map2.addLayer(Sentinel2, vis_S2, 'Sentinel-2')\n",
    "map2\n",
    "\n",
    "#Download S2 Image\n",
    "geemap.ee_export_image(Sentinel2, filename=\"Sentinel2.tif\", scale=1000, region=AOI2)"
   ]
  },
  {
   "cell_type": "markdown",
   "metadata": {},
   "source": [
    "# Question 4"
   ]
  },
  {
   "cell_type": "markdown",
   "metadata": {},
   "source": [
    "Create annual cloud-free NAIP imagery for the years 2010-2023 for a US county of your choice. Download the images to your computer. You can download a coarse resolution image to speed up the download process. "
   ]
  },
  {
   "cell_type": "code",
   "execution_count": 12,
   "metadata": {},
   "outputs": [
    {
     "data": {
      "text/html": [
       "\n",
       "            <style>\n",
       "                .geemap-dark {\n",
       "                    --jp-widgets-color: white;\n",
       "                    --jp-widgets-label-color: white;\n",
       "                    --jp-ui-font-color1: white;\n",
       "                    --jp-layout-color2: #454545;\n",
       "                    background-color: #383838;\n",
       "                }\n",
       "\n",
       "                .geemap-dark .jupyter-button {\n",
       "                    --jp-layout-color3: #383838;\n",
       "                }\n",
       "\n",
       "                .geemap-colab {\n",
       "                    background-color: var(--colab-primary-surface-color, white);\n",
       "                }\n",
       "\n",
       "                .geemap-colab .jupyter-button {\n",
       "                    --jp-layout-color3: var(--colab-primary-surface-color, white);\n",
       "                }\n",
       "            </style>\n",
       "            "
      ],
      "text/plain": [
       "<IPython.core.display.HTML object>"
      ]
     },
     "metadata": {},
     "output_type": "display_data"
    },
    {
     "name": "stdout",
     "output_type": "stream",
     "text": [
      "Generating URL ...\n",
      "Downloading data from https://earthengine.googleapis.com/v1/projects/gee-python-collab/thumbnails/51159c980e602b88efc12d26cec88f40-bf2c8fe7c5a4b22a7017ec626947854e:getPixels\n",
      "Please wait ...\n",
      "Data downloaded to e:\\GEE-Python\\NAIP.tif\n"
     ]
    }
   ],
   "source": [
    "def ClippingMask (image) :\n",
    "    mask = image.clip(AOI2)\n",
    "    return mask\n",
    "\n",
    "NAIP2 = (ee.ImageCollection('USDA/NAIP/DOQQ')\n",
    "        .filter(ee.Filter.date('2017-01-01', '2018-12-31'))\n",
    "        .filterBounds(AOI2)\n",
    "        .median());\n",
    "trueColor = NAIP2.select(['R', 'G', 'B']).clip(AOI2);\n",
    "\n",
    "map2.addLayer(trueColor, {'bands':['R','G','B']}, 'NAIP')\n",
    "\n",
    "#Download NAIP Image\n",
    "geemap.ee_export_image(trueColor, filename=\"NAIP.tif\", scale=1000, region=AOI2)"
   ]
  },
  {
   "cell_type": "markdown",
   "metadata": {},
   "source": [
    "# Question 5"
   ]
  },
  {
   "cell_type": "markdown",
   "metadata": {},
   "source": [
    "Download a US county of your choice and save it as a shapefile or GeoJSON file."
   ]
  },
  {
   "cell_type": "code",
   "execution_count": 13,
   "metadata": {},
   "outputs": [
    {
     "data": {
      "text/html": [
       "\n",
       "            <style>\n",
       "                .geemap-dark {\n",
       "                    --jp-widgets-color: white;\n",
       "                    --jp-widgets-label-color: white;\n",
       "                    --jp-ui-font-color1: white;\n",
       "                    --jp-layout-color2: #454545;\n",
       "                    background-color: #383838;\n",
       "                }\n",
       "\n",
       "                .geemap-dark .jupyter-button {\n",
       "                    --jp-layout-color3: #383838;\n",
       "                }\n",
       "\n",
       "                .geemap-colab {\n",
       "                    background-color: var(--colab-primary-surface-color, white);\n",
       "                }\n",
       "\n",
       "                .geemap-colab .jupyter-button {\n",
       "                    --jp-layout-color3: var(--colab-primary-surface-color, white);\n",
       "                }\n",
       "            </style>\n",
       "            "
      ],
      "text/plain": [
       "<IPython.core.display.HTML object>"
      ]
     },
     "metadata": {},
     "output_type": "display_data"
    }
   ],
   "source": [
    "geemap.ee_to_geojson(states2, filename='Chosen_State.geojson')"
   ]
  },
  {
   "cell_type": "code",
   "execution_count": 14,
   "metadata": {},
   "outputs": [
    {
     "data": {
      "text/html": [
       "\n",
       "            <style>\n",
       "                .geemap-dark {\n",
       "                    --jp-widgets-color: white;\n",
       "                    --jp-widgets-label-color: white;\n",
       "                    --jp-ui-font-color1: white;\n",
       "                    --jp-layout-color2: #454545;\n",
       "                    background-color: #383838;\n",
       "                }\n",
       "\n",
       "                .geemap-dark .jupyter-button {\n",
       "                    --jp-layout-color3: #383838;\n",
       "                }\n",
       "\n",
       "                .geemap-colab {\n",
       "                    background-color: var(--colab-primary-surface-color, white);\n",
       "                }\n",
       "\n",
       "                .geemap-colab .jupyter-button {\n",
       "                    --jp-layout-color3: var(--colab-primary-surface-color, white);\n",
       "                }\n",
       "            </style>\n",
       "            "
      ],
      "text/plain": [
       "<IPython.core.display.HTML object>"
      ]
     },
     "metadata": {},
     "output_type": "display_data"
    }
   ],
   "source": [
    "map2.addLayer(states2, {}, 'Chosen State')"
   ]
  }
 ],
 "metadata": {
  "kernelspec": {
   "display_name": "gee_hytm",
   "language": "python",
   "name": "python3"
  },
  "language_info": {
   "codemirror_mode": {
    "name": "ipython",
    "version": 3
   },
   "file_extension": ".py",
   "mimetype": "text/x-python",
   "name": "python",
   "nbconvert_exporter": "python",
   "pygments_lexer": "ipython3",
   "version": "3.11.8"
  }
 },
 "nbformat": 4,
 "nbformat_minor": 2
}
